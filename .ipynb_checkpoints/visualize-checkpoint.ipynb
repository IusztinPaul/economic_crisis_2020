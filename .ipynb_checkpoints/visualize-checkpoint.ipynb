{
 "cells": [
  {
   "cell_type": "code",
   "execution_count": 5,
   "id": "7542cc64",
   "metadata": {},
   "outputs": [],
   "source": [
    "from src import data\n",
    "from src import prices\n",
    "from src import fundamentals\n",
    "import download_fundamentals"
   ]
  },
  {
   "cell_type": "code",
   "execution_count": 6,
   "id": "f10f7d36",
   "metadata": {},
   "outputs": [
    {
     "data": {
      "text/plain": [
       "{'balancesheet/year': ('Total Liab',\n",
       "  'Total Current Liabilities',\n",
       "  'Total Stockholder Equity',\n",
       "  'Total Assets',\n",
       "  'Total Current Assets'),\n",
       " 'financials/year': ('Total Revenue',\n",
       "  'Gross Profit',\n",
       "  'Operating Income',\n",
       "  'Net Income From Continuing Ops',\n",
       "  'Selling General Administrative',\n",
       "  'Research Development'),\n",
       " 'cashflow/year': ('Total Cashflows From Investing Activities',\n",
       "  'Total Cash From Financing Activities'),\n",
       " 'info': ('sector',\n",
       "  'industry',\n",
       "  'marketCap',\n",
       "  'sharesOutstanding',\n",
       "  'trailingPE')}"
      ]
     },
     "execution_count": 6,
     "metadata": {},
     "output_type": "execute_result"
    }
   ],
   "source": [
    "download_fundamentals.EXTRACTION_TREE"
   ]
  },
  {
   "cell_type": "code",
   "execution_count": null,
   "id": "80af6d67",
   "metadata": {},
   "outputs": [],
   "source": []
  }
 ],
 "metadata": {
  "kernelspec": {
   "display_name": "Python 3",
   "language": "python",
   "name": "python3"
  },
  "language_info": {
   "codemirror_mode": {
    "name": "ipython",
    "version": 3
   },
   "file_extension": ".py",
   "mimetype": "text/x-python",
   "name": "python",
   "nbconvert_exporter": "python",
   "pygments_lexer": "ipython3",
   "version": "3.8.5"
  }
 },
 "nbformat": 4,
 "nbformat_minor": 5
}
